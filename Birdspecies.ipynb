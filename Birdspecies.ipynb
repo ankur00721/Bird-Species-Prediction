{
 "cells": [
  {
   "cell_type": "markdown",
   "metadata": {},
   "source": [
    "# BIRD SPECIES PREDICTION PROJECT"
   ]
  },
  {
   "cell_type": "markdown",
   "metadata": {},
   "source": [
    "## Importing Libraries & Dataset"
   ]
  },
  {
   "cell_type": "code",
   "execution_count": 1,
   "metadata": {},
   "outputs": [],
   "source": [
    "import pandas as pd\n",
    "\n",
    "\n",
    "imgatt = pd.read_csv(\"C:/Users/Admin/Downloads/CUB_200_2011/CUB_200_2011/attributes/image_attribute_labels.txt\",\n",
    "                     sep='\\s+', header=None, error_bad_lines=False, warn_bad_lines=False,\n",
    "                     usecols=[0,1,2], names=['imgid', 'attid', 'present']) # '\\s+' is a whitespace seperator.\n"
   ]
  },
  {
   "cell_type": "markdown",
   "metadata": {},
   "source": [
    "## Data Exploration"
   ]
  },
  {
   "cell_type": "code",
   "execution_count": 2,
   "metadata": {},
   "outputs": [
    {
     "data": {
      "text/html": [
       "<div>\n",
       "<style scoped>\n",
       "    .dataframe tbody tr th:only-of-type {\n",
       "        vertical-align: middle;\n",
       "    }\n",
       "\n",
       "    .dataframe tbody tr th {\n",
       "        vertical-align: top;\n",
       "    }\n",
       "\n",
       "    .dataframe thead th {\n",
       "        text-align: right;\n",
       "    }\n",
       "</style>\n",
       "<table border=\"1\" class=\"dataframe\">\n",
       "  <thead>\n",
       "    <tr style=\"text-align: right;\">\n",
       "      <th></th>\n",
       "      <th>imgid</th>\n",
       "      <th>attid</th>\n",
       "      <th>present</th>\n",
       "    </tr>\n",
       "  </thead>\n",
       "  <tbody>\n",
       "    <tr>\n",
       "      <th>0</th>\n",
       "      <td>1</td>\n",
       "      <td>1</td>\n",
       "      <td>0</td>\n",
       "    </tr>\n",
       "    <tr>\n",
       "      <th>1</th>\n",
       "      <td>1</td>\n",
       "      <td>2</td>\n",
       "      <td>0</td>\n",
       "    </tr>\n",
       "    <tr>\n",
       "      <th>2</th>\n",
       "      <td>1</td>\n",
       "      <td>3</td>\n",
       "      <td>0</td>\n",
       "    </tr>\n",
       "    <tr>\n",
       "      <th>3</th>\n",
       "      <td>1</td>\n",
       "      <td>4</td>\n",
       "      <td>0</td>\n",
       "    </tr>\n",
       "    <tr>\n",
       "      <th>4</th>\n",
       "      <td>1</td>\n",
       "      <td>5</td>\n",
       "      <td>1</td>\n",
       "    </tr>\n",
       "  </tbody>\n",
       "</table>\n",
       "</div>"
      ],
      "text/plain": [
       "   imgid  attid  present\n",
       "0      1      1        0\n",
       "1      1      2        0\n",
       "2      1      3        0\n",
       "3      1      4        0\n",
       "4      1      5        1"
      ]
     },
     "execution_count": 2,
     "metadata": {},
     "output_type": "execute_result"
    }
   ],
   "source": [
    "imgatt.head()"
   ]
  },
  {
   "cell_type": "code",
   "execution_count": 3,
   "metadata": {},
   "outputs": [
    {
     "data": {
      "text/plain": [
       "(3677856, 3)"
      ]
     },
     "execution_count": 3,
     "metadata": {},
     "output_type": "execute_result"
    }
   ],
   "source": [
    "imgatt.shape"
   ]
  },
  {
   "cell_type": "code",
   "execution_count": 4,
   "metadata": {},
   "outputs": [],
   "source": [
    "imgatt2 = imgatt.pivot(index='imgid', columns='attid', values='present')"
   ]
  },
  {
   "cell_type": "code",
   "execution_count": 5,
   "metadata": {},
   "outputs": [
    {
     "data": {
      "text/html": [
       "<div>\n",
       "<style scoped>\n",
       "    .dataframe tbody tr th:only-of-type {\n",
       "        vertical-align: middle;\n",
       "    }\n",
       "\n",
       "    .dataframe tbody tr th {\n",
       "        vertical-align: top;\n",
       "    }\n",
       "\n",
       "    .dataframe thead th {\n",
       "        text-align: right;\n",
       "    }\n",
       "</style>\n",
       "<table border=\"1\" class=\"dataframe\">\n",
       "  <thead>\n",
       "    <tr style=\"text-align: right;\">\n",
       "      <th>attid</th>\n",
       "      <th>1</th>\n",
       "      <th>2</th>\n",
       "      <th>3</th>\n",
       "      <th>4</th>\n",
       "      <th>5</th>\n",
       "      <th>6</th>\n",
       "      <th>7</th>\n",
       "      <th>8</th>\n",
       "      <th>9</th>\n",
       "      <th>10</th>\n",
       "      <th>...</th>\n",
       "      <th>303</th>\n",
       "      <th>304</th>\n",
       "      <th>305</th>\n",
       "      <th>306</th>\n",
       "      <th>307</th>\n",
       "      <th>308</th>\n",
       "      <th>309</th>\n",
       "      <th>310</th>\n",
       "      <th>311</th>\n",
       "      <th>312</th>\n",
       "    </tr>\n",
       "    <tr>\n",
       "      <th>imgid</th>\n",
       "      <th></th>\n",
       "      <th></th>\n",
       "      <th></th>\n",
       "      <th></th>\n",
       "      <th></th>\n",
       "      <th></th>\n",
       "      <th></th>\n",
       "      <th></th>\n",
       "      <th></th>\n",
       "      <th></th>\n",
       "      <th></th>\n",
       "      <th></th>\n",
       "      <th></th>\n",
       "      <th></th>\n",
       "      <th></th>\n",
       "      <th></th>\n",
       "      <th></th>\n",
       "      <th></th>\n",
       "      <th></th>\n",
       "      <th></th>\n",
       "      <th></th>\n",
       "    </tr>\n",
       "  </thead>\n",
       "  <tbody>\n",
       "    <tr>\n",
       "      <th>1</th>\n",
       "      <td>0</td>\n",
       "      <td>0</td>\n",
       "      <td>0</td>\n",
       "      <td>0</td>\n",
       "      <td>1</td>\n",
       "      <td>0</td>\n",
       "      <td>0</td>\n",
       "      <td>0</td>\n",
       "      <td>0</td>\n",
       "      <td>0</td>\n",
       "      <td>...</td>\n",
       "      <td>0</td>\n",
       "      <td>0</td>\n",
       "      <td>0</td>\n",
       "      <td>0</td>\n",
       "      <td>0</td>\n",
       "      <td>1</td>\n",
       "      <td>0</td>\n",
       "      <td>0</td>\n",
       "      <td>0</td>\n",
       "      <td>0</td>\n",
       "    </tr>\n",
       "    <tr>\n",
       "      <th>2</th>\n",
       "      <td>0</td>\n",
       "      <td>0</td>\n",
       "      <td>0</td>\n",
       "      <td>0</td>\n",
       "      <td>0</td>\n",
       "      <td>0</td>\n",
       "      <td>0</td>\n",
       "      <td>0</td>\n",
       "      <td>0</td>\n",
       "      <td>0</td>\n",
       "      <td>...</td>\n",
       "      <td>0</td>\n",
       "      <td>0</td>\n",
       "      <td>0</td>\n",
       "      <td>0</td>\n",
       "      <td>0</td>\n",
       "      <td>0</td>\n",
       "      <td>0</td>\n",
       "      <td>0</td>\n",
       "      <td>0</td>\n",
       "      <td>0</td>\n",
       "    </tr>\n",
       "    <tr>\n",
       "      <th>3</th>\n",
       "      <td>0</td>\n",
       "      <td>0</td>\n",
       "      <td>0</td>\n",
       "      <td>0</td>\n",
       "      <td>1</td>\n",
       "      <td>0</td>\n",
       "      <td>0</td>\n",
       "      <td>0</td>\n",
       "      <td>0</td>\n",
       "      <td>0</td>\n",
       "      <td>...</td>\n",
       "      <td>0</td>\n",
       "      <td>0</td>\n",
       "      <td>0</td>\n",
       "      <td>0</td>\n",
       "      <td>0</td>\n",
       "      <td>1</td>\n",
       "      <td>0</td>\n",
       "      <td>0</td>\n",
       "      <td>1</td>\n",
       "      <td>0</td>\n",
       "    </tr>\n",
       "    <tr>\n",
       "      <th>4</th>\n",
       "      <td>0</td>\n",
       "      <td>0</td>\n",
       "      <td>0</td>\n",
       "      <td>0</td>\n",
       "      <td>1</td>\n",
       "      <td>0</td>\n",
       "      <td>0</td>\n",
       "      <td>0</td>\n",
       "      <td>0</td>\n",
       "      <td>0</td>\n",
       "      <td>...</td>\n",
       "      <td>0</td>\n",
       "      <td>0</td>\n",
       "      <td>0</td>\n",
       "      <td>1</td>\n",
       "      <td>0</td>\n",
       "      <td>0</td>\n",
       "      <td>1</td>\n",
       "      <td>0</td>\n",
       "      <td>0</td>\n",
       "      <td>0</td>\n",
       "    </tr>\n",
       "    <tr>\n",
       "      <th>5</th>\n",
       "      <td>0</td>\n",
       "      <td>0</td>\n",
       "      <td>0</td>\n",
       "      <td>0</td>\n",
       "      <td>1</td>\n",
       "      <td>0</td>\n",
       "      <td>0</td>\n",
       "      <td>0</td>\n",
       "      <td>0</td>\n",
       "      <td>0</td>\n",
       "      <td>...</td>\n",
       "      <td>0</td>\n",
       "      <td>0</td>\n",
       "      <td>1</td>\n",
       "      <td>0</td>\n",
       "      <td>0</td>\n",
       "      <td>0</td>\n",
       "      <td>0</td>\n",
       "      <td>0</td>\n",
       "      <td>0</td>\n",
       "      <td>0</td>\n",
       "    </tr>\n",
       "  </tbody>\n",
       "</table>\n",
       "<p>5 rows × 312 columns</p>\n",
       "</div>"
      ],
      "text/plain": [
       "attid  1    2    3    4    5    6    7    8    9    10   ...  303  304  305  \\\n",
       "imgid                                                    ...                  \n",
       "1        0    0    0    0    1    0    0    0    0    0  ...    0    0    0   \n",
       "2        0    0    0    0    0    0    0    0    0    0  ...    0    0    0   \n",
       "3        0    0    0    0    1    0    0    0    0    0  ...    0    0    0   \n",
       "4        0    0    0    0    1    0    0    0    0    0  ...    0    0    0   \n",
       "5        0    0    0    0    1    0    0    0    0    0  ...    0    0    1   \n",
       "\n",
       "attid  306  307  308  309  310  311  312  \n",
       "imgid                                     \n",
       "1        0    0    1    0    0    0    0  \n",
       "2        0    0    0    0    0    0    0  \n",
       "3        0    0    1    0    0    1    0  \n",
       "4        1    0    0    1    0    0    0  \n",
       "5        0    0    0    0    0    0    0  \n",
       "\n",
       "[5 rows x 312 columns]"
      ]
     },
     "execution_count": 5,
     "metadata": {},
     "output_type": "execute_result"
    }
   ],
   "source": [
    "imgatt2.head()"
   ]
  },
  {
   "cell_type": "code",
   "execution_count": 6,
   "metadata": {},
   "outputs": [
    {
     "data": {
      "text/plain": [
       "(11788, 312)"
      ]
     },
     "execution_count": 6,
     "metadata": {},
     "output_type": "execute_result"
    }
   ],
   "source": [
    "imgatt2.shape"
   ]
  },
  {
   "cell_type": "code",
   "execution_count": 7,
   "metadata": {},
   "outputs": [
    {
     "data": {
      "text/plain": [
       "attid\n",
       "1      0\n",
       "2      0\n",
       "3      0\n",
       "4      0\n",
       "5      0\n",
       "6      0\n",
       "7      0\n",
       "8      0\n",
       "9      0\n",
       "10     0\n",
       "11     0\n",
       "12     0\n",
       "13     0\n",
       "14     0\n",
       "15     0\n",
       "16     0\n",
       "17     0\n",
       "18     0\n",
       "19     0\n",
       "20     0\n",
       "21     0\n",
       "22     0\n",
       "23     0\n",
       "24     0\n",
       "25     0\n",
       "26     0\n",
       "27     0\n",
       "28     0\n",
       "29     0\n",
       "30     0\n",
       "      ..\n",
       "283    0\n",
       "284    0\n",
       "285    0\n",
       "286    0\n",
       "287    0\n",
       "288    0\n",
       "289    0\n",
       "290    0\n",
       "291    0\n",
       "292    0\n",
       "293    0\n",
       "294    0\n",
       "295    0\n",
       "296    0\n",
       "297    0\n",
       "298    0\n",
       "299    0\n",
       "300    0\n",
       "301    0\n",
       "302    0\n",
       "303    0\n",
       "304    0\n",
       "305    0\n",
       "306    0\n",
       "307    0\n",
       "308    0\n",
       "309    0\n",
       "310    0\n",
       "311    0\n",
       "312    0\n",
       "Length: 312, dtype: int64"
      ]
     },
     "execution_count": 7,
     "metadata": {},
     "output_type": "execute_result"
    }
   ],
   "source": [
    "imgatt2.isnull().sum()"
   ]
  },
  {
   "cell_type": "code",
   "execution_count": 8,
   "metadata": {},
   "outputs": [
    {
     "data": {
      "text/plain": [
       "<bound method DataFrame.info of attid  1    2    3    4    5    6    7    8    9    10   ...  303  304  305  \\\n",
       "imgid                                                    ...                  \n",
       "1        0    0    0    0    1    0    0    0    0    0  ...    0    0    0   \n",
       "2        0    0    0    0    0    0    0    0    0    0  ...    0    0    0   \n",
       "3        0    0    0    0    1    0    0    0    0    0  ...    0    0    0   \n",
       "4        0    0    0    0    1    0    0    0    0    0  ...    0    0    0   \n",
       "5        0    0    0    0    1    0    0    0    0    0  ...    0    0    1   \n",
       "6        0    0    0    0    1    0    0    0    0    0  ...    0    0    0   \n",
       "7        0    0    0    0    0    1    0    0    0    0  ...    0    0    0   \n",
       "8        0    0    0    0    0    1    0    0    0    0  ...    0    0    0   \n",
       "9        0    1    0    0    0    0    0    0    0    0  ...    0    0    0   \n",
       "10       0    0    0    0    0    0    0    0    0    0  ...    0    0    0   \n",
       "11       0    0    0    0    0    0    0    1    0    0  ...    0    0    1   \n",
       "12       0    0    0    0    0    1    0    0    0    0  ...    0    0    0   \n",
       "13       0    0    0    0    0    1    0    0    0    1  ...    0    0    0   \n",
       "14       0    0    0    0    0    0    1    0    0    0  ...    0    0    0   \n",
       "15       0    0    0    0    0    0    0    1    0    0  ...    0    0    0   \n",
       "16       0    0    0    0    1    0    0    0    0    0  ...    0    0    0   \n",
       "17       0    0    0    0    0    1    0    0    0    0  ...    0    0    0   \n",
       "18       0    0    0    0    1    0    0    0    0    0  ...    0    0    0   \n",
       "19       0    0    0    0    0    1    0    0    0    0  ...    0    0    0   \n",
       "20       0    0    0    0    1    0    0    0    0    0  ...    0    0    0   \n",
       "21       0    0    0    0    1    0    0    0    0    0  ...    0    0    0   \n",
       "22       0    0    0    0    0    1    0    0    0    0  ...    0    0    0   \n",
       "23       0    0    0    0    0    1    0    0    0    0  ...    0    0    0   \n",
       "24       0    0    0    0    0    1    0    0    0    0  ...    0    0    0   \n",
       "25       0    0    0    0    1    0    0    0    0    0  ...    0    0    1   \n",
       "26       0    0    0    0    0    1    0    0    0    0  ...    0    0    0   \n",
       "27       0    0    0    0    0    1    0    0    0    0  ...    0    0    0   \n",
       "28       0    0    0    0    0    0    1    0    0    0  ...    0    0    0   \n",
       "29       0    0    0    0    1    0    0    0    0    0  ...    0    0    1   \n",
       "30       0    0    0    0    1    0    0    0    0    0  ...    0    0    1   \n",
       "...    ...  ...  ...  ...  ...  ...  ...  ...  ...  ...  ...  ...  ...  ...   \n",
       "11759    0    0    0    0    0    0    1    0    0    0  ...    0    0    0   \n",
       "11760    0    0    0    0    0    0    1    0    0    0  ...    0    0    0   \n",
       "11761    0    0    0    0    0    0    1    0    0    0  ...    0    0    0   \n",
       "11762    0    0    0    0    0    0    1    0    0    0  ...    0    0    0   \n",
       "11763    0    0    0    0    0    0    1    0    0    0  ...    0    0    0   \n",
       "11764    0    1    0    0    0    0    0    0    0    0  ...    0    0    0   \n",
       "11765    0    0    0    0    0    0    1    0    0    0  ...    0    0    0   \n",
       "11766    0    0    0    0    0    0    1    0    0    0  ...    0    0    0   \n",
       "11767    0    0    0    0    0    0    1    0    0    0  ...    0    0    0   \n",
       "11768    0    0    0    0    0    0    1    0    0    0  ...    0    0    0   \n",
       "11769    0    0    0    0    0    0    1    0    0    0  ...    0    0    0   \n",
       "11770    0    0    0    0    0    0    0    1    0    0  ...    0    0    0   \n",
       "11771    0    0    0    0    0    0    1    0    0    0  ...    0    0    0   \n",
       "11772    0    0    0    0    0    0    1    0    0    0  ...    0    0    0   \n",
       "11773    0    0    0    0    0    0    1    0    0    0  ...    0    0    0   \n",
       "11774    0    0    0    0    0    0    1    0    0    0  ...    0    0    0   \n",
       "11775    0    0    0    0    0    0    1    0    0    0  ...    0    0    1   \n",
       "11776    0    0    0    0    0    0    1    0    0    0  ...    0    0    0   \n",
       "11777    0    0    0    0    0    0    1    0    0    0  ...    0    0    0   \n",
       "11778    0    0    0    0    0    0    1    0    0    0  ...    0    0    1   \n",
       "11779    0    0    0    0    0    0    1    0    0    0  ...    0    0    0   \n",
       "11780    0    0    0    0    0    0    1    0    0    0  ...    0    0    0   \n",
       "11781    0    1    0    0    0    0    0    0    0    0  ...    0    0    0   \n",
       "11782    0    0    0    0    0    0    1    0    0    0  ...    0    0    0   \n",
       "11783    0    0    0    0    0    0    1    0    0    0  ...    0    0    0   \n",
       "11784    0    1    0    0    0    0    0    0    0    0  ...    0    0    0   \n",
       "11785    0    0    0    0    0    0    1    0    0    0  ...    0    0    0   \n",
       "11786    0    0    0    0    0    0    1    0    0    0  ...    0    0    0   \n",
       "11787    0    0    0    0    0    0    1    0    0    0  ...    0    0    0   \n",
       "11788    0    0    0    0    0    0    1    0    0    0  ...    0    0    0   \n",
       "\n",
       "attid  306  307  308  309  310  311  312  \n",
       "imgid                                     \n",
       "1        0    0    1    0    0    0    0  \n",
       "2        0    0    0    0    0    0    0  \n",
       "3        0    0    1    0    0    1    0  \n",
       "4        1    0    0    1    0    0    0  \n",
       "5        0    0    0    0    0    0    0  \n",
       "6        1    0    1    0    1    0    0  \n",
       "7        0    0    0    0    0    0    0  \n",
       "8        1    0    0    0    0    0    1  \n",
       "9        0    0    0    1    0    0    0  \n",
       "10       0    0    0    0    0    0    0  \n",
       "11       0    0    0    1    0    0    0  \n",
       "12       0    0    0    1    0    0    0  \n",
       "13       0    0    0    1    0    0    0  \n",
       "14       0    0    1    0    0    0    1  \n",
       "15       0    1    0    1    0    0    0  \n",
       "16       0    0    0    0    0    0    1  \n",
       "17       0    0    1    1    0    0    0  \n",
       "18       0    0    0    0    0    0    0  \n",
       "19       0    0    0    0    0    1    0  \n",
       "20       0    0    1    0    0    1    0  \n",
       "21       0    0    0    1    0    0    0  \n",
       "22       0    0    0    0    0    0    0  \n",
       "23       0    0    1    0    0    0    1  \n",
       "24       0    0    1    0    1    0    0  \n",
       "25       0    0    0    1    0    0    0  \n",
       "26       0    0    1    0    0    0    1  \n",
       "27       0    0    0    0    0    1    0  \n",
       "28       0    0    0    0    0    0    1  \n",
       "29       0    0    0    1    0    0    0  \n",
       "30       0    0    0    0    0    1    0  \n",
       "...    ...  ...  ...  ...  ...  ...  ...  \n",
       "11759    0    0    0    1    0    0    0  \n",
       "11760    0    0    0    0    0    0    1  \n",
       "11761    0    0    1    1    0    0    0  \n",
       "11762    1    0    0    1    0    0    0  \n",
       "11763    0    0    0    0    0    0    1  \n",
       "11764    0    0    0    1    0    0    0  \n",
       "11765    1    0    1    1    0    0    0  \n",
       "11766    1    0    1    1    0    0    0  \n",
       "11767    1    0    1    0    0    0    1  \n",
       "11768    0    0    0    0    0    1    0  \n",
       "11769    0    0    0    1    0    0    0  \n",
       "11770    0    0    0    1    0    0    0  \n",
       "11771    1    0    0    0    0    1    0  \n",
       "11772    0    0    0    0    0    0    0  \n",
       "11773    1    0    0    0    0    0    0  \n",
       "11774    0    0    0    0    0    0    0  \n",
       "11775    0    0    1    0    0    0    1  \n",
       "11776    1    0    0    0    0    0    1  \n",
       "11777    0    0    1    1    0    0    0  \n",
       "11778    1    0    1    1    0    0    0  \n",
       "11779    0    0    0    0    1    0    0  \n",
       "11780    0    0    0    1    0    0    0  \n",
       "11781    0    0    1    1    0    0    0  \n",
       "11782    0    0    0    0    0    0    0  \n",
       "11783    1    0    1    0    0    0    1  \n",
       "11784    1    0    0    1    0    0    0  \n",
       "11785    1    0    1    0    0    0    0  \n",
       "11786    0    0    1    0    0    1    0  \n",
       "11787    0    0    0    0    0    1    0  \n",
       "11788    1    0    1    0    0    0    1  \n",
       "\n",
       "[11788 rows x 312 columns]>"
      ]
     },
     "execution_count": 8,
     "metadata": {},
     "output_type": "execute_result"
    }
   ],
   "source": [
    "imgatt2.info"
   ]
  },
  {
   "cell_type": "code",
   "execution_count": 9,
   "metadata": {},
   "outputs": [],
   "source": [
    "imglabels = pd.read_csv(\"C:/Users/Admin/Downloads/CUB_200_2011/CUB_200_2011/image_class_labels.txt\", \n",
    "                        sep=' ', header=None, names=['imgid', 'label'])\n",
    "\n",
    "imglabels = imglabels.set_index('imgid')"
   ]
  },
  {
   "cell_type": "code",
   "execution_count": 10,
   "metadata": {},
   "outputs": [
    {
     "data": {
      "text/html": [
       "<div>\n",
       "<style scoped>\n",
       "    .dataframe tbody tr th:only-of-type {\n",
       "        vertical-align: middle;\n",
       "    }\n",
       "\n",
       "    .dataframe tbody tr th {\n",
       "        vertical-align: top;\n",
       "    }\n",
       "\n",
       "    .dataframe thead th {\n",
       "        text-align: right;\n",
       "    }\n",
       "</style>\n",
       "<table border=\"1\" class=\"dataframe\">\n",
       "  <thead>\n",
       "    <tr style=\"text-align: right;\">\n",
       "      <th></th>\n",
       "      <th>label</th>\n",
       "    </tr>\n",
       "    <tr>\n",
       "      <th>imgid</th>\n",
       "      <th></th>\n",
       "    </tr>\n",
       "  </thead>\n",
       "  <tbody>\n",
       "    <tr>\n",
       "      <th>1</th>\n",
       "      <td>1</td>\n",
       "    </tr>\n",
       "    <tr>\n",
       "      <th>2</th>\n",
       "      <td>1</td>\n",
       "    </tr>\n",
       "    <tr>\n",
       "      <th>3</th>\n",
       "      <td>1</td>\n",
       "    </tr>\n",
       "    <tr>\n",
       "      <th>4</th>\n",
       "      <td>1</td>\n",
       "    </tr>\n",
       "    <tr>\n",
       "      <th>5</th>\n",
       "      <td>1</td>\n",
       "    </tr>\n",
       "  </tbody>\n",
       "</table>\n",
       "</div>"
      ],
      "text/plain": [
       "       label\n",
       "imgid       \n",
       "1          1\n",
       "2          1\n",
       "3          1\n",
       "4          1\n",
       "5          1"
      ]
     },
     "execution_count": 10,
     "metadata": {},
     "output_type": "execute_result"
    }
   ],
   "source": [
    "imglabels.head()"
   ]
  },
  {
   "cell_type": "code",
   "execution_count": 11,
   "metadata": {},
   "outputs": [
    {
     "data": {
      "text/plain": [
       "(11788, 1)"
      ]
     },
     "execution_count": 11,
     "metadata": {},
     "output_type": "execute_result"
    }
   ],
   "source": [
    "imglabels.shape"
   ]
  },
  {
   "cell_type": "code",
   "execution_count": 12,
   "metadata": {},
   "outputs": [],
   "source": [
    "df = imgatt2.join(imglabels)\n",
    "df = df.sample(frac=1)"
   ]
  },
  {
   "cell_type": "code",
   "execution_count": 13,
   "metadata": {},
   "outputs": [
    {
     "data": {
      "text/plain": [
       "(11788, 313)"
      ]
     },
     "execution_count": 13,
     "metadata": {},
     "output_type": "execute_result"
    }
   ],
   "source": [
    "df.shape"
   ]
  },
  {
   "cell_type": "code",
   "execution_count": 14,
   "metadata": {},
   "outputs": [
    {
     "data": {
      "text/html": [
       "<div>\n",
       "<style scoped>\n",
       "    .dataframe tbody tr th:only-of-type {\n",
       "        vertical-align: middle;\n",
       "    }\n",
       "\n",
       "    .dataframe tbody tr th {\n",
       "        vertical-align: top;\n",
       "    }\n",
       "\n",
       "    .dataframe thead th {\n",
       "        text-align: right;\n",
       "    }\n",
       "</style>\n",
       "<table border=\"1\" class=\"dataframe\">\n",
       "  <thead>\n",
       "    <tr style=\"text-align: right;\">\n",
       "      <th></th>\n",
       "      <th>1</th>\n",
       "      <th>2</th>\n",
       "      <th>3</th>\n",
       "      <th>4</th>\n",
       "      <th>5</th>\n",
       "      <th>6</th>\n",
       "      <th>7</th>\n",
       "      <th>8</th>\n",
       "      <th>9</th>\n",
       "      <th>10</th>\n",
       "      <th>...</th>\n",
       "      <th>304</th>\n",
       "      <th>305</th>\n",
       "      <th>306</th>\n",
       "      <th>307</th>\n",
       "      <th>308</th>\n",
       "      <th>309</th>\n",
       "      <th>310</th>\n",
       "      <th>311</th>\n",
       "      <th>312</th>\n",
       "      <th>label</th>\n",
       "    </tr>\n",
       "    <tr>\n",
       "      <th>imgid</th>\n",
       "      <th></th>\n",
       "      <th></th>\n",
       "      <th></th>\n",
       "      <th></th>\n",
       "      <th></th>\n",
       "      <th></th>\n",
       "      <th></th>\n",
       "      <th></th>\n",
       "      <th></th>\n",
       "      <th></th>\n",
       "      <th></th>\n",
       "      <th></th>\n",
       "      <th></th>\n",
       "      <th></th>\n",
       "      <th></th>\n",
       "      <th></th>\n",
       "      <th></th>\n",
       "      <th></th>\n",
       "      <th></th>\n",
       "      <th></th>\n",
       "      <th></th>\n",
       "    </tr>\n",
       "  </thead>\n",
       "  <tbody>\n",
       "    <tr>\n",
       "      <th>3471</th>\n",
       "      <td>0</td>\n",
       "      <td>0</td>\n",
       "      <td>0</td>\n",
       "      <td>0</td>\n",
       "      <td>0</td>\n",
       "      <td>0</td>\n",
       "      <td>1</td>\n",
       "      <td>0</td>\n",
       "      <td>0</td>\n",
       "      <td>0</td>\n",
       "      <td>...</td>\n",
       "      <td>0</td>\n",
       "      <td>0</td>\n",
       "      <td>1</td>\n",
       "      <td>0</td>\n",
       "      <td>0</td>\n",
       "      <td>0</td>\n",
       "      <td>0</td>\n",
       "      <td>0</td>\n",
       "      <td>1</td>\n",
       "      <td>60</td>\n",
       "    </tr>\n",
       "    <tr>\n",
       "      <th>4470</th>\n",
       "      <td>0</td>\n",
       "      <td>0</td>\n",
       "      <td>0</td>\n",
       "      <td>0</td>\n",
       "      <td>0</td>\n",
       "      <td>0</td>\n",
       "      <td>1</td>\n",
       "      <td>0</td>\n",
       "      <td>0</td>\n",
       "      <td>0</td>\n",
       "      <td>...</td>\n",
       "      <td>0</td>\n",
       "      <td>0</td>\n",
       "      <td>0</td>\n",
       "      <td>0</td>\n",
       "      <td>0</td>\n",
       "      <td>0</td>\n",
       "      <td>0</td>\n",
       "      <td>0</td>\n",
       "      <td>1</td>\n",
       "      <td>77</td>\n",
       "    </tr>\n",
       "    <tr>\n",
       "      <th>7971</th>\n",
       "      <td>0</td>\n",
       "      <td>0</td>\n",
       "      <td>0</td>\n",
       "      <td>0</td>\n",
       "      <td>0</td>\n",
       "      <td>0</td>\n",
       "      <td>0</td>\n",
       "      <td>1</td>\n",
       "      <td>0</td>\n",
       "      <td>0</td>\n",
       "      <td>...</td>\n",
       "      <td>0</td>\n",
       "      <td>0</td>\n",
       "      <td>0</td>\n",
       "      <td>0</td>\n",
       "      <td>1</td>\n",
       "      <td>1</td>\n",
       "      <td>0</td>\n",
       "      <td>0</td>\n",
       "      <td>0</td>\n",
       "      <td>136</td>\n",
       "    </tr>\n",
       "  </tbody>\n",
       "</table>\n",
       "<p>3 rows × 313 columns</p>\n",
       "</div>"
      ],
      "text/plain": [
       "       1  2  3  4  5  6  7  8  9  10  ...  304  305  306  307  308  309  310  \\\n",
       "imgid                                 ...                                      \n",
       "3471   0  0  0  0  0  0  1  0  0   0  ...    0    0    1    0    0    0    0   \n",
       "4470   0  0  0  0  0  0  1  0  0   0  ...    0    0    0    0    0    0    0   \n",
       "7971   0  0  0  0  0  0  0  1  0   0  ...    0    0    0    0    1    1    0   \n",
       "\n",
       "       311  312  label  \n",
       "imgid                   \n",
       "3471     0    1     60  \n",
       "4470     0    1     77  \n",
       "7971     0    0    136  \n",
       "\n",
       "[3 rows x 313 columns]"
      ]
     },
     "execution_count": 14,
     "metadata": {},
     "output_type": "execute_result"
    }
   ],
   "source": [
    "df.head(3)"
   ]
  },
  {
   "cell_type": "code",
   "execution_count": 15,
   "metadata": {},
   "outputs": [],
   "source": [
    "df_att = df.iloc[:, :312]\n",
    "df_label = df.iloc[:, 312:]"
   ]
  },
  {
   "cell_type": "code",
   "execution_count": 16,
   "metadata": {},
   "outputs": [
    {
     "data": {
      "text/html": [
       "<div>\n",
       "<style scoped>\n",
       "    .dataframe tbody tr th:only-of-type {\n",
       "        vertical-align: middle;\n",
       "    }\n",
       "\n",
       "    .dataframe tbody tr th {\n",
       "        vertical-align: top;\n",
       "    }\n",
       "\n",
       "    .dataframe thead th {\n",
       "        text-align: right;\n",
       "    }\n",
       "</style>\n",
       "<table border=\"1\" class=\"dataframe\">\n",
       "  <thead>\n",
       "    <tr style=\"text-align: right;\">\n",
       "      <th></th>\n",
       "      <th>1</th>\n",
       "      <th>2</th>\n",
       "      <th>3</th>\n",
       "      <th>4</th>\n",
       "      <th>5</th>\n",
       "      <th>6</th>\n",
       "      <th>7</th>\n",
       "      <th>8</th>\n",
       "      <th>9</th>\n",
       "      <th>10</th>\n",
       "      <th>...</th>\n",
       "      <th>303</th>\n",
       "      <th>304</th>\n",
       "      <th>305</th>\n",
       "      <th>306</th>\n",
       "      <th>307</th>\n",
       "      <th>308</th>\n",
       "      <th>309</th>\n",
       "      <th>310</th>\n",
       "      <th>311</th>\n",
       "      <th>312</th>\n",
       "    </tr>\n",
       "    <tr>\n",
       "      <th>imgid</th>\n",
       "      <th></th>\n",
       "      <th></th>\n",
       "      <th></th>\n",
       "      <th></th>\n",
       "      <th></th>\n",
       "      <th></th>\n",
       "      <th></th>\n",
       "      <th></th>\n",
       "      <th></th>\n",
       "      <th></th>\n",
       "      <th></th>\n",
       "      <th></th>\n",
       "      <th></th>\n",
       "      <th></th>\n",
       "      <th></th>\n",
       "      <th></th>\n",
       "      <th></th>\n",
       "      <th></th>\n",
       "      <th></th>\n",
       "      <th></th>\n",
       "      <th></th>\n",
       "    </tr>\n",
       "  </thead>\n",
       "  <tbody>\n",
       "    <tr>\n",
       "      <th>3471</th>\n",
       "      <td>0</td>\n",
       "      <td>0</td>\n",
       "      <td>0</td>\n",
       "      <td>0</td>\n",
       "      <td>0</td>\n",
       "      <td>0</td>\n",
       "      <td>1</td>\n",
       "      <td>0</td>\n",
       "      <td>0</td>\n",
       "      <td>0</td>\n",
       "      <td>...</td>\n",
       "      <td>0</td>\n",
       "      <td>0</td>\n",
       "      <td>0</td>\n",
       "      <td>1</td>\n",
       "      <td>0</td>\n",
       "      <td>0</td>\n",
       "      <td>0</td>\n",
       "      <td>0</td>\n",
       "      <td>0</td>\n",
       "      <td>1</td>\n",
       "    </tr>\n",
       "    <tr>\n",
       "      <th>4470</th>\n",
       "      <td>0</td>\n",
       "      <td>0</td>\n",
       "      <td>0</td>\n",
       "      <td>0</td>\n",
       "      <td>0</td>\n",
       "      <td>0</td>\n",
       "      <td>1</td>\n",
       "      <td>0</td>\n",
       "      <td>0</td>\n",
       "      <td>0</td>\n",
       "      <td>...</td>\n",
       "      <td>0</td>\n",
       "      <td>0</td>\n",
       "      <td>0</td>\n",
       "      <td>0</td>\n",
       "      <td>0</td>\n",
       "      <td>0</td>\n",
       "      <td>0</td>\n",
       "      <td>0</td>\n",
       "      <td>0</td>\n",
       "      <td>1</td>\n",
       "    </tr>\n",
       "    <tr>\n",
       "      <th>7971</th>\n",
       "      <td>0</td>\n",
       "      <td>0</td>\n",
       "      <td>0</td>\n",
       "      <td>0</td>\n",
       "      <td>0</td>\n",
       "      <td>0</td>\n",
       "      <td>0</td>\n",
       "      <td>1</td>\n",
       "      <td>0</td>\n",
       "      <td>0</td>\n",
       "      <td>...</td>\n",
       "      <td>0</td>\n",
       "      <td>0</td>\n",
       "      <td>0</td>\n",
       "      <td>0</td>\n",
       "      <td>0</td>\n",
       "      <td>1</td>\n",
       "      <td>1</td>\n",
       "      <td>0</td>\n",
       "      <td>0</td>\n",
       "      <td>0</td>\n",
       "    </tr>\n",
       "    <tr>\n",
       "      <th>11636</th>\n",
       "      <td>0</td>\n",
       "      <td>1</td>\n",
       "      <td>0</td>\n",
       "      <td>0</td>\n",
       "      <td>0</td>\n",
       "      <td>0</td>\n",
       "      <td>0</td>\n",
       "      <td>0</td>\n",
       "      <td>0</td>\n",
       "      <td>0</td>\n",
       "      <td>...</td>\n",
       "      <td>0</td>\n",
       "      <td>0</td>\n",
       "      <td>0</td>\n",
       "      <td>0</td>\n",
       "      <td>0</td>\n",
       "      <td>1</td>\n",
       "      <td>0</td>\n",
       "      <td>1</td>\n",
       "      <td>0</td>\n",
       "      <td>0</td>\n",
       "    </tr>\n",
       "    <tr>\n",
       "      <th>894</th>\n",
       "      <td>0</td>\n",
       "      <td>0</td>\n",
       "      <td>0</td>\n",
       "      <td>0</td>\n",
       "      <td>0</td>\n",
       "      <td>0</td>\n",
       "      <td>0</td>\n",
       "      <td>1</td>\n",
       "      <td>0</td>\n",
       "      <td>0</td>\n",
       "      <td>...</td>\n",
       "      <td>0</td>\n",
       "      <td>0</td>\n",
       "      <td>0</td>\n",
       "      <td>0</td>\n",
       "      <td>0</td>\n",
       "      <td>0</td>\n",
       "      <td>1</td>\n",
       "      <td>0</td>\n",
       "      <td>0</td>\n",
       "      <td>0</td>\n",
       "    </tr>\n",
       "  </tbody>\n",
       "</table>\n",
       "<p>5 rows × 312 columns</p>\n",
       "</div>"
      ],
      "text/plain": [
       "       1    2    3    4    5    6    7    8    9    10   ...  303  304  305  \\\n",
       "imgid                                                    ...                  \n",
       "3471     0    0    0    0    0    0    1    0    0    0  ...    0    0    0   \n",
       "4470     0    0    0    0    0    0    1    0    0    0  ...    0    0    0   \n",
       "7971     0    0    0    0    0    0    0    1    0    0  ...    0    0    0   \n",
       "11636    0    1    0    0    0    0    0    0    0    0  ...    0    0    0   \n",
       "894      0    0    0    0    0    0    0    1    0    0  ...    0    0    0   \n",
       "\n",
       "       306  307  308  309  310  311  312  \n",
       "imgid                                     \n",
       "3471     1    0    0    0    0    0    1  \n",
       "4470     0    0    0    0    0    0    1  \n",
       "7971     0    0    1    1    0    0    0  \n",
       "11636    0    0    1    0    1    0    0  \n",
       "894      0    0    0    1    0    0    0  \n",
       "\n",
       "[5 rows x 312 columns]"
      ]
     },
     "execution_count": 16,
     "metadata": {},
     "output_type": "execute_result"
    }
   ],
   "source": [
    "df_att.head()"
   ]
  },
  {
   "cell_type": "code",
   "execution_count": 17,
   "metadata": {},
   "outputs": [
    {
     "data": {
      "text/html": [
       "<div>\n",
       "<style scoped>\n",
       "    .dataframe tbody tr th:only-of-type {\n",
       "        vertical-align: middle;\n",
       "    }\n",
       "\n",
       "    .dataframe tbody tr th {\n",
       "        vertical-align: top;\n",
       "    }\n",
       "\n",
       "    .dataframe thead th {\n",
       "        text-align: right;\n",
       "    }\n",
       "</style>\n",
       "<table border=\"1\" class=\"dataframe\">\n",
       "  <thead>\n",
       "    <tr style=\"text-align: right;\">\n",
       "      <th></th>\n",
       "      <th>label</th>\n",
       "    </tr>\n",
       "    <tr>\n",
       "      <th>imgid</th>\n",
       "      <th></th>\n",
       "    </tr>\n",
       "  </thead>\n",
       "  <tbody>\n",
       "    <tr>\n",
       "      <th>3471</th>\n",
       "      <td>60</td>\n",
       "    </tr>\n",
       "    <tr>\n",
       "      <th>4470</th>\n",
       "      <td>77</td>\n",
       "    </tr>\n",
       "    <tr>\n",
       "      <th>7971</th>\n",
       "      <td>136</td>\n",
       "    </tr>\n",
       "    <tr>\n",
       "      <th>11636</th>\n",
       "      <td>198</td>\n",
       "    </tr>\n",
       "    <tr>\n",
       "      <th>894</th>\n",
       "      <td>16</td>\n",
       "    </tr>\n",
       "  </tbody>\n",
       "</table>\n",
       "</div>"
      ],
      "text/plain": [
       "       label\n",
       "imgid       \n",
       "3471      60\n",
       "4470      77\n",
       "7971     136\n",
       "11636    198\n",
       "894       16"
      ]
     },
     "execution_count": 17,
     "metadata": {},
     "output_type": "execute_result"
    }
   ],
   "source": [
    "df_label.head()"
   ]
  },
  {
   "cell_type": "markdown",
   "metadata": {},
   "source": [
    "## Fitting,Training & Testing the Model"
   ]
  },
  {
   "cell_type": "code",
   "execution_count": 18,
   "metadata": {},
   "outputs": [],
   "source": [
    "df_train_att = df_att[:8000]\n",
    "df_train_label = df_label[:8000]\n",
    "df_test_att = df_att[8000:]\n",
    "df_test_label = df_label[8000:]\n",
    "\n",
    "df_train_label = df_train_label['label']\n",
    "df_test_label = df_test_label['label']"
   ]
  },
  {
   "cell_type": "code",
   "execution_count": 19,
   "metadata": {},
   "outputs": [],
   "source": [
    "from sklearn.ensemble import RandomForestClassifier\n",
    "clf = RandomForestClassifier(max_features=50, random_state=0, n_estimators=100)"
   ]
  },
  {
   "cell_type": "code",
   "execution_count": 20,
   "metadata": {},
   "outputs": [
    {
     "data": {
      "text/plain": [
       "RandomForestClassifier(bootstrap=True, class_weight=None, criterion='gini',\n",
       "            max_depth=None, max_features=50, max_leaf_nodes=None,\n",
       "            min_impurity_decrease=0.0, min_impurity_split=None,\n",
       "            min_samples_leaf=1, min_samples_split=2,\n",
       "            min_weight_fraction_leaf=0.0, n_estimators=100, n_jobs=None,\n",
       "            oob_score=False, random_state=0, verbose=0, warm_start=False)"
      ]
     },
     "execution_count": 20,
     "metadata": {},
     "output_type": "execute_result"
    }
   ],
   "source": [
    "clf.fit(df_train_att, df_train_label)"
   ]
  },
  {
   "cell_type": "code",
   "execution_count": 21,
   "metadata": {},
   "outputs": [
    {
     "name": "stdout",
     "output_type": "stream",
     "text": [
      "[ 60  77 136 198  16  70 145 124]\n"
     ]
    }
   ],
   "source": [
    "print(clf.predict(df_train_att.head(8)))"
   ]
  },
  {
   "cell_type": "code",
   "execution_count": 22,
   "metadata": {},
   "outputs": [
    {
     "data": {
      "text/plain": [
       "0.4477296726504752"
      ]
     },
     "execution_count": 22,
     "metadata": {},
     "output_type": "execute_result"
    }
   ],
   "source": [
    "clf.score(df_test_att, df_test_label)"
   ]
  },
  {
   "cell_type": "code",
   "execution_count": 23,
   "metadata": {},
   "outputs": [],
   "source": [
    "from sklearn.metrics import confusion_matrix\n",
    "pred_labels = clf.predict(df_test_att)\n",
    "cm = confusion_matrix(df_test_label, pred_labels)"
   ]
  },
  {
   "cell_type": "code",
   "execution_count": 24,
   "metadata": {},
   "outputs": [
    {
     "data": {
      "text/plain": [
       "array([[ 3,  2,  4, ...,  0,  0,  0],\n",
       "       [ 0, 12,  0, ...,  0,  0,  0],\n",
       "       [ 2,  0,  5, ...,  0,  0,  0],\n",
       "       ...,\n",
       "       [ 0,  0,  0, ...,  2,  0,  0],\n",
       "       [ 0,  0,  0, ...,  1,  5,  0],\n",
       "       [ 0,  0,  0, ...,  0,  0, 17]], dtype=int64)"
      ]
     },
     "execution_count": 24,
     "metadata": {},
     "output_type": "execute_result"
    }
   ],
   "source": [
    "cm"
   ]
  },
  {
   "cell_type": "code",
   "execution_count": 25,
   "metadata": {},
   "outputs": [
    {
     "data": {
      "text/plain": [
       "0.264519535374868"
      ]
     },
     "execution_count": 25,
     "metadata": {},
     "output_type": "execute_result"
    }
   ],
   "source": [
    "from sklearn import tree\n",
    "clftree = tree.DecisionTreeClassifier()\n",
    "clftree.fit(df_train_att, df_train_label)\n",
    "clftree.score(df_test_att, df_test_label)"
   ]
  },
  {
   "cell_type": "code",
   "execution_count": 26,
   "metadata": {},
   "outputs": [
    {
     "data": {
      "text/plain": [
       "0.4778247096092925"
      ]
     },
     "execution_count": 26,
     "metadata": {},
     "output_type": "execute_result"
    }
   ],
   "source": [
    "from sklearn import svm\n",
    "clfsvm = svm.SVC(gamma='scale')\n",
    "clfsvm.fit(df_train_att, df_train_label)\n",
    "clfsvm.score(df_test_att, df_test_label)"
   ]
  },
  {
   "cell_type": "code",
   "execution_count": 34,
   "metadata": {},
   "outputs": [
    {
     "name": "stdout",
     "output_type": "stream",
     "text": [
      "[164  75   4  42 151 173  89 121]\n"
     ]
    }
   ],
   "source": [
    "print(clfsvm.predict(df_test_att.head(8)))"
   ]
  },
  {
   "cell_type": "code",
   "execution_count": 43,
   "metadata": {},
   "outputs": [
    {
     "name": "stdout",
     "output_type": "stream",
     "text": [
      "[164  75   4  42 151 136  89  91 101 183]\n"
     ]
    }
   ],
   "source": [
    "print(clf.predict(df_test_att.head(10)))"
   ]
  },
  {
   "cell_type": "markdown",
   "metadata": {},
   "source": [
    "### Cross validation scores"
   ]
  },
  {
   "cell_type": "code",
   "execution_count": 44,
   "metadata": {},
   "outputs": [
    {
     "name": "stdout",
     "output_type": "stream",
     "text": [
      "Accuracy: 0.44 (+/- 0.01)\n"
     ]
    }
   ],
   "source": [
    "from sklearn.model_selection import cross_val_score\n",
    "scores = cross_val_score(clf, df_train_att, df_train_label, cv=5)\n",
    "# show average score and +/- two standard deviations away (covering 95% of scores)\n",
    "print(\"Accuracy: %0.2f (+/- %0.2f)\" % (scores.mean(), scores.std() * 2))"
   ]
  },
  {
   "cell_type": "code",
   "execution_count": 45,
   "metadata": {},
   "outputs": [
    {
     "name": "stdout",
     "output_type": "stream",
     "text": [
      "Accuracy: 0.26 (+/- 0.02)\n"
     ]
    }
   ],
   "source": [
    "scorestree = cross_val_score(clftree, df_train_att, df_train_label, cv=5)\n",
    "print(\"Accuracy: %0.2f (+/- %0.2f)\" % (scorestree.mean(), scorestree.std() * 2))"
   ]
  },
  {
   "cell_type": "code",
   "execution_count": 46,
   "metadata": {},
   "outputs": [
    {
     "name": "stdout",
     "output_type": "stream",
     "text": [
      "Accuracy: 0.47 (+/- 0.02)\n"
     ]
    }
   ],
   "source": [
    "scoressvm = cross_val_score(clfsvm, df_train_att, df_train_label, cv=5)\n",
    "print(\"Accuracy: %0.2f (+/- %0.2f)\" % (scoressvm.mean(), scoressvm.std() * 2))"
   ]
  }
 ],
 "metadata": {
  "kernelspec": {
   "display_name": "Python 3",
   "language": "python",
   "name": "python3"
  },
  "language_info": {
   "codemirror_mode": {
    "name": "ipython",
    "version": 3
   },
   "file_extension": ".py",
   "mimetype": "text/x-python",
   "name": "python",
   "nbconvert_exporter": "python",
   "pygments_lexer": "ipython3",
   "version": "3.7.3"
  }
 },
 "nbformat": 4,
 "nbformat_minor": 4
}
